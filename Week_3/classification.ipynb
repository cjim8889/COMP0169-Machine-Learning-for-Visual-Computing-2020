{
 "cells": [
  {
   "cell_type": "markdown",
   "metadata": {},
   "source": [
    "# Classification"
   ]
  },
  {
   "cell_type": "markdown",
   "metadata": {},
   "source": [
    "### Imports"
   ]
  },
  {
   "cell_type": "code",
   "execution_count": null,
   "metadata": {
    "ExecuteTime": {
     "end_time": "2020-10-19T15:53:28.738412Z",
     "start_time": "2020-10-19T15:53:28.173558Z"
    }
   },
   "outputs": [],
   "source": [
    "import os\n",
    "import numpy as np\n",
    "import matplotlib.pyplot as plt\n",
    "import scipy\n",
    "import sklearn\n",
    "\n",
    "%matplotlib inline"
   ]
  },
  {
   "cell_type": "code",
   "execution_count": null,
   "metadata": {
    "ExecuteTime": {
     "end_time": "2020-10-19T15:53:28.816713Z",
     "start_time": "2020-10-19T15:53:28.740008Z"
    }
   },
   "outputs": [],
   "source": [
    "from random import random\n",
    "from sklearn import datasets as skdataset\n",
    "from sklearn.datasets import make_circles\n",
    "from sklearn.model_selection import train_test_split\n",
    "from sklearn.utils import shuffle\n",
    "from sklearn import svm\n",
    "from sklearn.preprocessing import StandardScaler"
   ]
  },
  {
   "cell_type": "code",
   "execution_count": null,
   "metadata": {
    "ExecuteTime": {
     "end_time": "2020-10-19T15:53:28.835174Z",
     "start_time": "2020-10-19T15:53:28.818607Z"
    }
   },
   "outputs": [],
   "source": [
    "RAND_ST = 42"
   ]
  },
  {
   "cell_type": "markdown",
   "metadata": {},
   "source": [
    "### Utility functions"
   ]
  },
  {
   "cell_type": "markdown",
   "metadata": {},
   "source": [
    "##### Data loading"
   ]
  },
  {
   "cell_type": "code",
   "execution_count": null,
   "metadata": {
    "ExecuteTime": {
     "end_time": "2020-10-19T15:53:28.903745Z",
     "start_time": "2020-10-19T15:53:28.836929Z"
    }
   },
   "outputs": [],
   "source": [
    "def load_iris_dataset(num_classes=2):\n",
    "    iris = skdataset.load_iris()\n",
    "    X = iris.data\n",
    "    Y = iris.target\n",
    "    \n",
    "    # reduce number of classes\n",
    "    idx = Y < num_classes\n",
    "    X = X[idx]\n",
    "    Y = Y[idx]\n",
    "    \n",
    "    return X, Y"
   ]
  },
  {
   "cell_type": "code",
   "execution_count": null,
   "metadata": {
    "ExecuteTime": {
     "end_time": "2020-10-19T15:53:28.985239Z",
     "start_time": "2020-10-19T15:53:28.907960Z"
    }
   },
   "outputs": [],
   "source": [
    "def load_circle_dataset(num_samples=100):\n",
    "    X, Y = skdataset.make_circles(num_samples, factor=.1, noise=.1)\n",
    "    return X, Y"
   ]
  },
  {
   "cell_type": "code",
   "execution_count": null,
   "metadata": {
    "ExecuteTime": {
     "end_time": "2020-10-19T15:53:29.054973Z",
     "start_time": "2020-10-19T15:53:28.986479Z"
    }
   },
   "outputs": [],
   "source": [
    "def load_digit_dataset(num_classes=2):\n",
    "    X, Y = skdataset.load_digits(n_class=num_classes, return_X_y=True)\n",
    "    return X, Y"
   ]
  },
  {
   "cell_type": "code",
   "execution_count": null,
   "metadata": {
    "ExecuteTime": {
     "end_time": "2020-10-19T15:53:29.119377Z",
     "start_time": "2020-10-19T15:53:29.059001Z"
    }
   },
   "outputs": [],
   "source": [
    "def load_wine_dataset(num_classes=2):\n",
    "    X, Y = skdataset.load_wine(return_X_y=True)\n",
    "    \n",
    "    # reduce number of classes\n",
    "    idx = Y < num_classes\n",
    "    X = X[idx]\n",
    "    Y = Y[idx]\n",
    "    \n",
    "    return X, Y"
   ]
  },
  {
   "cell_type": "code",
   "execution_count": null,
   "metadata": {
    "ExecuteTime": {
     "end_time": "2020-10-19T15:53:29.214924Z",
     "start_time": "2020-10-19T15:53:29.121689Z"
    }
   },
   "outputs": [],
   "source": [
    "def load_mnist_dataset(num_classes=2):\n",
    "    train_samples = 5000\n",
    "\n",
    "    X, Y = skdataset.fetch_openml('mnist_784', version=1, return_X_y=True)\n",
    "    Y = Y.astype(np.int64)\n",
    "    \n",
    "    # reduce number of classes\n",
    "    idx = Y < num_classes\n",
    "    X = X[idx]\n",
    "    Y = Y[idx]\n",
    "\n",
    "    return X, Y\n",
    "\n",
    "\n",
    "def load_mnist_dataset_onevsall(class_id=7):\n",
    "    train_samples = 5000\n",
    "\n",
    "    X, Y = skdataset.fetch_openml('mnist_784', version=1, return_X_y=True)\n",
    "    Y = Y.astype(np.int64)\n",
    "    \n",
    "    # reduce number of classes\n",
    "    idx = Y == class_id\n",
    "    Y[~idx] = 0\n",
    "    Y[idx]  = 1\n",
    "\n",
    "    return X, Y"
   ]
  },
  {
   "cell_type": "code",
   "execution_count": null,
   "metadata": {},
   "outputs": [],
   "source": []
  },
  {
   "cell_type": "markdown",
   "metadata": {},
   "source": [
    "##### Plot"
   ]
  },
  {
   "cell_type": "code",
   "execution_count": null,
   "metadata": {
    "ExecuteTime": {
     "end_time": "2020-10-19T15:53:29.302037Z",
     "start_time": "2020-10-19T15:53:29.217859Z"
    }
   },
   "outputs": [],
   "source": [
    "def plot_dataset(X, Y, dims=[0,1]):\n",
    "    \n",
    "    # slice dataset\n",
    "    X_reduced = X[:, dims]\n",
    "    \n",
    "    # plot axis limits\n",
    "    #x_min, x_max = X_reduced[:, 0].min() - .5, X_reduced[:, 0].max() + .5\n",
    "    #y_min, y_max = X_reduced[:, 1].min() - .5, X_reduced[:, 1].max() + .5\n",
    "\n",
    "    plt.figure(figsize=(8, 6))\n",
    "    plt.clf()\n",
    "\n",
    "    # Plot the training points\n",
    "    plt.scatter(X_reduced[:, 0], X_reduced[:, 1], c=Y, cmap=plt.cm.Set1, edgecolor='k')\n",
    "    plt.xlabel('Feat 1')\n",
    "    plt.ylabel('Feat 2')\n",
    "    \n",
    "    plt.show()\n",
    "\n",
    "\n",
    "def plot_pca(X, Y):\n",
    "    # Plot the first three PCA dimensions\n",
    "    fig = plt.figure(figsize=(8, 6))\n",
    "    ax = Axes3D(fig, elev=-150, azim=110)\n",
    "    \n",
    "    X_pca = PCA(n_components=3).fit_transform(X)\n",
    "    ax.scatter(X_pca[:, 0], X_pca[:, 1], X_pca[:, 2], c=Y,\n",
    "               cmap=plt.cm.Set1, edgecolor='k', s=40)\n",
    "    \n",
    "    ax.set_title(\"First three PCA directions\")\n",
    "    ax.set_xlabel(\"1st eigenvector\")\n",
    "    ax.w_xaxis.set_ticklabels([])\n",
    "    ax.set_ylabel(\"2nd eigenvector\")\n",
    "    ax.w_yaxis.set_ticklabels([])\n",
    "    ax.set_zlabel(\"3rd eigenvector\")\n",
    "    ax.w_zaxis.set_ticklabels([])\n",
    "\n",
    "    plt.show()"
   ]
  },
  {
   "cell_type": "code",
   "execution_count": null,
   "metadata": {
    "ExecuteTime": {
     "end_time": "2020-10-19T15:53:29.391782Z",
     "start_time": "2020-10-19T15:53:29.306393Z"
    }
   },
   "outputs": [],
   "source": [
    "def plot_loss_curve(logs):\n",
    "    \n",
    "    fig = plt.figure(figsize=(8, 6))\n",
    "    plt.plot(logs)\n",
    "    plt.show()"
   ]
  },
  {
   "cell_type": "code",
   "execution_count": null,
   "metadata": {
    "ExecuteTime": {
     "end_time": "2020-10-19T15:53:29.472954Z",
     "start_time": "2020-10-19T15:53:29.393072Z"
    }
   },
   "outputs": [],
   "source": [
    "def plot_linear_classifier(X, Y, W, dims=[0,1]):\n",
    "    \n",
    "    b = W[-1]\n",
    "    W = W[:-1]\n",
    "    w = W[dims]\n",
    "        \n",
    "    # slice dataset\n",
    "    X_reduced = X[:, dims]\n",
    "    \n",
    "    fig = plt.figure(figsize=(8, 6))\n",
    "    plt.clf()\n",
    "    \n",
    "    plt.scatter(X_reduced[:, 0], X_reduced[:, 1], c=Y, cmap=plt.cm.Set1, edgecolor='k')\n",
    "    plt.xlabel('Feat 1')\n",
    "    plt.ylabel('Feat 2')\n",
    "    \n",
    "    m = -w[0] / w[1]\n",
    "    q = -(b-0.5) / w[1]\n",
    "\n",
    "    xx = np.linspace(X_reduced[:, 0].min(), X_reduced[:, 0].max())\n",
    "    yy = m*xx + q\n",
    "    \n",
    "    plt.plot(xx, yy, 'k-')\n",
    "    plt.show()\n",
    "    "
   ]
  },
  {
   "cell_type": "code",
   "execution_count": null,
   "metadata": {
    "ExecuteTime": {
     "end_time": "2020-10-19T15:53:29.553139Z",
     "start_time": "2020-10-19T15:53:29.476984Z"
    }
   },
   "outputs": [],
   "source": [
    "def plot_digit(sample):\n",
    "    fig = plt.figure(figsize=(8,6))\n",
    "    plt.gray() \n",
    "    plt.matshow(sample.reshape(8,8))\n",
    "    plt.show()\n",
    "\n",
    "def plot_mnist_digit(sample):\n",
    "    fig = plt.figure(figsize=(8,6))\n",
    "    plt.gray() \n",
    "    plt.matshow(sample.reshape(28,28))\n",
    "    plt.show()"
   ]
  },
  {
   "cell_type": "markdown",
   "metadata": {},
   "source": [
    "###### Performance Meausre"
   ]
  },
  {
   "cell_type": "code",
   "execution_count": null,
   "metadata": {
    "ExecuteTime": {
     "end_time": "2020-10-19T15:53:29.630973Z",
     "start_time": "2020-10-19T15:53:29.554643Z"
    }
   },
   "outputs": [],
   "source": [
    "def accuracy(Y_test, y_pred):\n",
    "    \n",
    "    accuracy = np.sum(Y_test == y_pred)\n",
    "    accuracy /= Y_test.shape[0]\n",
    "    \n",
    "    return accuracy\n",
    "\n",
    "def precision(Y_test, y_pred):\n",
    "    \n",
    "    mask = (Y_test == 1)\n",
    "    \n",
    "    precision = np.sum(Y_test[mask] == y_pred[mask])\n",
    "    precision /= np.sum(mask.astype(np.float64))\n",
    "    \n",
    "    return precision\n"
   ]
  },
  {
   "cell_type": "code",
   "execution_count": null,
   "metadata": {
    "ExecuteTime": {
     "end_time": "2020-10-19T15:53:29.737109Z",
     "start_time": "2020-10-19T15:53:29.632550Z"
    }
   },
   "outputs": [],
   "source": [
    "def true_positive(Y_test, y_pred):\n",
    "    mask = (Y_test == 1)\n",
    "    \n",
    "    tp = (Y_test[mask] == y_pred[mask]).sum()\n",
    "    \n",
    "    return tp.item()\n",
    "\n",
    "def true_negative(Y_test, y_pred):\n",
    "    mask = (Y_test == 0) | (Y_test == -1)\n",
    "    \n",
    "    tn = (Y_test[mask] == y_pred[mask]).sum()\n",
    "    \n",
    "    return tn.item()\n",
    "\n",
    "def false_negative(Y_test, y_pred):\n",
    "    mask = (y_pred == 0) | (y_pred == -1)\n",
    "    \n",
    "    tn = (Y_test[mask] != y_pred[mask]).sum()\n",
    "    \n",
    "    return tn.item()\n",
    "\n",
    "def false_positive(Y_test, y_pred):\n",
    "    mask = (y_pred == 1)\n",
    "    \n",
    "    tn = (Y_test[mask] != y_pred[mask]).sum()\n",
    "    \n",
    "    return tn.item()\n",
    "\n",
    "def plot_confusion_matrix(Y_test, y_pred):\n",
    "    \n",
    "    tp = true_positive(Y_test, y_pred)\n",
    "    tn = true_negative(Y_test, y_pred)\n",
    "    fp = false_positive(Y_test, y_pred)\n",
    "    fn = false_negative(Y_test, y_pred)\n",
    "    \n",
    "    cf = np.array([[tn, fn], [fp, tp]])\n",
    "    \n",
    "    fig, ax = plt.subplots()\n",
    "\n",
    "    ax.matshow(cf, cmap=plt.cm.Blues)\n",
    "\n",
    "    for i in range(2):\n",
    "        for j in range(2):\n",
    "            c = cf[j,i]\n",
    "            ax.text(i, j, str(c), va='center', ha='center')\n",
    "\n",
    "    plt.xlabel('Prediction')\n",
    "    plt.ylabel('Target')\n",
    "    plt.show()\n"
   ]
  },
  {
   "cell_type": "markdown",
   "metadata": {},
   "source": [
    "## Linear Classifier"
   ]
  },
  {
   "cell_type": "markdown",
   "metadata": {},
   "source": [
    "##### Load data"
   ]
  },
  {
   "cell_type": "code",
   "execution_count": null,
   "metadata": {
    "ExecuteTime": {
     "end_time": "2020-10-19T15:53:29.855324Z",
     "start_time": "2020-10-19T15:53:29.742201Z"
    }
   },
   "outputs": [],
   "source": [
    "X, Y = load_iris_dataset()"
   ]
  },
  {
   "cell_type": "code",
   "execution_count": null,
   "metadata": {
    "ExecuteTime": {
     "end_time": "2020-10-19T15:53:30.075165Z",
     "start_time": "2020-10-19T15:53:29.858165Z"
    },
    "scrolled": false
   },
   "outputs": [],
   "source": [
    "plot_dataset(X, Y, dims=[0,2])"
   ]
  },
  {
   "cell_type": "code",
   "execution_count": null,
   "metadata": {
    "ExecuteTime": {
     "end_time": "2020-10-19T15:53:30.079103Z",
     "start_time": "2020-10-19T15:53:30.076782Z"
    }
   },
   "outputs": [],
   "source": [
    "X = X[:, [0,2]]"
   ]
  },
  {
   "cell_type": "code",
   "execution_count": null,
   "metadata": {
    "ExecuteTime": {
     "end_time": "2020-10-19T15:53:30.293045Z",
     "start_time": "2020-10-19T15:53:30.080441Z"
    }
   },
   "outputs": [],
   "source": [
    "plot_dataset(X, Y)"
   ]
  },
  {
   "cell_type": "code",
   "execution_count": null,
   "metadata": {
    "ExecuteTime": {
     "end_time": "2020-10-19T15:53:30.299740Z",
     "start_time": "2020-10-19T15:53:30.295418Z"
    }
   },
   "outputs": [],
   "source": [
    "X_train, X_test, Y_train, Y_test = train_test_split(X, Y, test_size=0.3, random_state=RAND_ST) # 70% training and 30% test"
   ]
  },
  {
   "cell_type": "code",
   "execution_count": null,
   "metadata": {
    "ExecuteTime": {
     "end_time": "2020-10-19T15:53:30.503012Z",
     "start_time": "2020-10-19T15:53:30.302412Z"
    }
   },
   "outputs": [],
   "source": [
    "plot_dataset(X_train, Y_train, dims=[0,1])"
   ]
  },
  {
   "cell_type": "markdown",
   "metadata": {},
   "source": [
    "#### Compute Model Parameters"
   ]
  },
  {
   "cell_type": "markdown",
   "metadata": {},
   "source": [
    "#### Weights of a linear classifiers can be computed in closed form.\n",
    "\n",
    "Please find the optimal weights for a linear classifier using LS.\n",
    "\n",
    "Hint:\n",
    "\n",
    "\\begin{align}\n",
    "W_{opt} = (X^T X)^{-1} X^T y\n",
    "\\end{align}\n"
   ]
  },
  {
   "cell_type": "code",
   "execution_count": null,
   "metadata": {
    "ExecuteTime": {
     "end_time": "2020-10-19T15:53:30.506815Z",
     "start_time": "2020-10-19T15:53:30.504692Z"
    }
   },
   "outputs": [],
   "source": [
    "# Students please fill here"
   ]
  },
  {
   "cell_type": "markdown",
   "metadata": {},
   "source": [
    "#### Check your solution"
   ]
  },
  {
   "cell_type": "code",
   "execution_count": null,
   "metadata": {
    "ExecuteTime": {
     "end_time": "2020-10-19T15:53:30.999143Z",
     "start_time": "2020-10-19T15:53:30.714288Z"
    },
    "scrolled": false
   },
   "outputs": [],
   "source": [
    "plot_linear_classifier(X_train, Y_train, W_opt)"
   ]
  },
  {
   "cell_type": "markdown",
   "metadata": {},
   "source": [
    "##### Check results using confusion matrix"
   ]
  },
  {
   "cell_type": "code",
   "execution_count": null,
   "metadata": {
    "ExecuteTime": {
     "end_time": "2020-10-19T15:53:31.003916Z",
     "start_time": "2020-10-19T15:53:31.000778Z"
    }
   },
   "outputs": [],
   "source": [
    "y_pred_train = (np.matmul(x_train, W_opt) > 0.5).astype(np.int64)\n",
    "y_pred_test  = (np.matmul(x_test, W_opt) > 0.5).astype(np.int64)"
   ]
  },
  {
   "cell_type": "code",
   "execution_count": null,
   "metadata": {
    "ExecuteTime": {
     "end_time": "2020-10-19T15:53:31.242051Z",
     "start_time": "2020-10-19T15:53:31.005394Z"
    }
   },
   "outputs": [],
   "source": [
    "plot_confusion_matrix(Y_train, y_pred_train)"
   ]
  },
  {
   "cell_type": "code",
   "execution_count": null,
   "metadata": {
    "ExecuteTime": {
     "end_time": "2020-10-19T15:53:31.671290Z",
     "start_time": "2020-10-19T15:53:31.243204Z"
    }
   },
   "outputs": [],
   "source": [
    "plot_confusion_matrix(Y_test, y_pred_test)"
   ]
  },
  {
   "cell_type": "code",
   "execution_count": null,
   "metadata": {},
   "outputs": [],
   "source": []
  },
  {
   "cell_type": "markdown",
   "metadata": {},
   "source": [
    "### Fail case\n",
    "\n",
    "Linear classifiers does not work in simple datasets as the one shown below"
   ]
  },
  {
   "cell_type": "code",
   "execution_count": null,
   "metadata": {
    "ExecuteTime": {
     "end_time": "2020-10-19T15:53:31.778130Z",
     "start_time": "2020-10-19T15:53:31.672958Z"
    }
   },
   "outputs": [],
   "source": [
    "X, Y = load_circle_dataset(num_samples=1000)"
   ]
  },
  {
   "cell_type": "code",
   "execution_count": null,
   "metadata": {
    "ExecuteTime": {
     "end_time": "2020-10-19T15:53:32.030805Z",
     "start_time": "2020-10-19T15:53:31.781661Z"
    },
    "scrolled": false
   },
   "outputs": [],
   "source": [
    "plot_dataset(X, Y)"
   ]
  },
  {
   "cell_type": "markdown",
   "metadata": {},
   "source": [
    "###### Check that a linear classifier will actually fail\n",
    "\n",
    "Please compute model weights with LS over a training set, then test your solution on the test set.\n",
    "\n",
    "To check your results use the confusion matrix as above"
   ]
  },
  {
   "cell_type": "code",
   "execution_count": null,
   "metadata": {
    "ExecuteTime": {
     "end_time": "2020-10-19T15:53:32.037345Z",
     "start_time": "2020-10-19T15:53:32.032639Z"
    }
   },
   "outputs": [],
   "source": [
    "X_train, X_test, Y_train, Y_test = train_test_split(X, Y, test_size=0.3, random_state=RAND_ST) # 70% training and 30% test"
   ]
  },
  {
   "cell_type": "code",
   "execution_count": null,
   "metadata": {
    "ExecuteTime": {
     "end_time": "2020-10-19T15:53:32.336256Z",
     "start_time": "2020-10-19T15:53:32.331957Z"
    }
   },
   "outputs": [],
   "source": [
    "scaler = StandardScaler()\n",
    "scaler.fit(X_train)\n",
    "X_train = scaler.transform(X_train)\n",
    "X_test  = scaler.transform(X_test)"
   ]
  },
  {
   "cell_type": "markdown",
   "metadata": {},
   "source": [
    "#### Weights of a linear classifiers can be computed in closed form.\n",
    "\n",
    "Please find the optimal weights for a linear classifier using LS.\n",
    "\n",
    "Hint:\n",
    "\n",
    "\\begin{align}\n",
    "W_{opt} = (X^T X)^{-1} X^T y\n",
    "\\end{align}\n"
   ]
  },
  {
   "cell_type": "code",
   "execution_count": null,
   "metadata": {
    "ExecuteTime": {
     "end_time": "2020-10-19T15:53:32.431044Z",
     "start_time": "2020-10-19T15:53:32.337619Z"
    }
   },
   "outputs": [],
   "source": [
    "# Students please fill here"
   ]
  },
  {
   "cell_type": "code",
   "execution_count": null,
   "metadata": {},
   "outputs": [],
   "source": []
  },
  {
   "cell_type": "markdown",
   "metadata": {},
   "source": [
    "## Logistic Classifier"
   ]
  },
  {
   "cell_type": "markdown",
   "metadata": {},
   "source": [
    "##### Training procedure"
   ]
  },
  {
   "cell_type": "code",
   "execution_count": null,
   "metadata": {
    "ExecuteTime": {
     "end_time": "2020-10-19T15:53:33.448361Z",
     "start_time": "2020-10-19T15:53:33.373814Z"
    }
   },
   "outputs": [],
   "source": [
    "def train_logistic_classifier(X, Y, W, loss_function, gradient, step_size, max_it):\n",
    "    \n",
    "    checkpoint_step = int(max_it / 10)\n",
    "    \n",
    "    best_loss = float('+inf')\n",
    "    best_w = None\n",
    "    \n",
    "    history = []\n",
    "    for it in range(max_it):\n",
    "        \n",
    "        z = np.dot(X, W)\n",
    "        prediction = sigmoid(z)\n",
    "            \n",
    "        loss = loss_function(prediction, Y)\n",
    "        \n",
    "        if loss < best_loss:\n",
    "            best_w = W\n",
    "            \n",
    "        J = gradient(prediction, X, Y)\n",
    "        W = W - step_size * J\n",
    "        \n",
    "        history.append(loss)\n",
    "            \n",
    "        if (it + 1) % checkpoint_step == 0:\n",
    "            print('[{:05}] current loss: {}'.format(it+1, loss))\n",
    "    \n",
    "    return history, best_w"
   ]
  },
  {
   "cell_type": "markdown",
   "metadata": {},
   "source": [
    "#### Cross entropy loss\n",
    "\n",
    "Please implement the cross entropy loss.\n",
    "\n",
    "Hint:\n",
    "\n",
    "\\begin{equation}\n",
    "L = - \\sum y * log(z) - \\sum (1-y) * log(1-z)\n",
    "\\end{equation}\n",
    "\n",
    "Gradient:\n",
    "\\begin{equation}\n",
    "    \\frac{\\partial L}{\\partial z} = \\frac{z-y}{y(1-y)}\n",
    "\\end{equation}"
   ]
  },
  {
   "cell_type": "code",
   "execution_count": null,
   "metadata": {
    "ExecuteTime": {
     "end_time": "2020-10-19T15:53:33.703855Z",
     "start_time": "2020-10-19T15:53:33.449860Z"
    }
   },
   "outputs": [],
   "source": [
    "def loss_function(preds, targets):\n",
    "\n",
    "    cost = float('+inf')\n",
    "    # Students please fill here\n",
    "    \n",
    "    \n",
    "\n",
    "    return cost"
   ]
  },
  {
   "cell_type": "code",
   "execution_count": null,
   "metadata": {
    "ExecuteTime": {
     "end_time": "2020-10-19T15:53:33.867376Z",
     "start_time": "2020-10-19T15:53:33.708647Z"
    }
   },
   "outputs": [],
   "source": [
    "def sigmoid(z):\n",
    "    return 1.0 / (1 + np.exp(-z))"
   ]
  },
  {
   "cell_type": "markdown",
   "metadata": {},
   "source": [
    "#### Gradient\n",
    "\n",
    "Please implement the gradient function below.\n",
    "\n",
    "Keep in mind the gradient should take into account both the loss function and the model.\n"
   ]
  },
  {
   "cell_type": "code",
   "execution_count": null,
   "metadata": {
    "ExecuteTime": {
     "end_time": "2020-10-19T15:53:34.281023Z",
     "start_time": "2020-10-19T15:53:33.871908Z"
    }
   },
   "outputs": [],
   "source": [
    "def gradient(preds, X, Y):\n",
    "    # Students please fill here\n",
    "    \n",
    "\n",
    "    return J"
   ]
  },
  {
   "cell_type": "markdown",
   "metadata": {},
   "source": [
    "##### Load data"
   ]
  },
  {
   "cell_type": "code",
   "execution_count": null,
   "metadata": {
    "ExecuteTime": {
     "end_time": "2020-10-19T15:53:34.601194Z",
     "start_time": "2020-10-19T15:53:34.285616Z"
    }
   },
   "outputs": [],
   "source": [
    "X, Y = load_digit_dataset(num_classes=2)"
   ]
  },
  {
   "cell_type": "code",
   "execution_count": null,
   "metadata": {
    "ExecuteTime": {
     "end_time": "2020-10-19T15:53:34.628827Z",
     "start_time": "2020-10-19T15:53:34.602471Z"
    }
   },
   "outputs": [],
   "source": [
    "X.shape"
   ]
  },
  {
   "cell_type": "code",
   "execution_count": null,
   "metadata": {
    "ExecuteTime": {
     "end_time": "2020-10-19T15:53:34.743848Z",
     "start_time": "2020-10-19T15:53:34.630085Z"
    }
   },
   "outputs": [],
   "source": [
    "X_train, X_test, Y_train, Y_test = train_test_split(X, Y, test_size=0.3, random_state=RAND_ST) # 70% training and 30% test"
   ]
  },
  {
   "cell_type": "markdown",
   "metadata": {},
   "source": [
    "##### Data normalization"
   ]
  },
  {
   "cell_type": "code",
   "execution_count": null,
   "metadata": {
    "ExecuteTime": {
     "end_time": "2020-10-19T15:53:34.840411Z",
     "start_time": "2020-10-19T15:53:34.749426Z"
    }
   },
   "outputs": [],
   "source": [
    "X_train /= 16\n",
    "X_test /= 16"
   ]
  },
  {
   "cell_type": "code",
   "execution_count": null,
   "metadata": {
    "ExecuteTime": {
     "end_time": "2020-10-19T15:53:35.108788Z",
     "start_time": "2020-10-19T15:53:34.842098Z"
    },
    "scrolled": false
   },
   "outputs": [],
   "source": [
    "plot_digit(X[0])"
   ]
  },
  {
   "cell_type": "code",
   "execution_count": null,
   "metadata": {
    "ExecuteTime": {
     "end_time": "2020-10-19T15:53:35.257897Z",
     "start_time": "2020-10-19T15:53:35.110260Z"
    }
   },
   "outputs": [],
   "source": [
    "plot_digit(X_train[10])"
   ]
  },
  {
   "cell_type": "markdown",
   "metadata": {},
   "source": [
    "##### Definition model parameters"
   ]
  },
  {
   "cell_type": "code",
   "execution_count": null,
   "metadata": {
    "ExecuteTime": {
     "end_time": "2020-10-19T15:53:35.439772Z",
     "start_time": "2020-10-19T15:53:35.264411Z"
    }
   },
   "outputs": [],
   "source": [
    "x_train = np.hstack((X_train, np.ones((X_train.shape[0],1))))\n",
    "x_test = np.hstack((X_test, np.ones((X_test.shape[0],1))))\n",
    "\n",
    "W = np.random.uniform(-1, 1, size=(x_train.shape[1]))"
   ]
  },
  {
   "cell_type": "markdown",
   "metadata": {},
   "source": [
    "##### Train"
   ]
  },
  {
   "cell_type": "code",
   "execution_count": null,
   "metadata": {
    "ExecuteTime": {
     "end_time": "2020-10-19T15:53:35.742350Z",
     "start_time": "2020-10-19T15:53:35.537902Z"
    }
   },
   "outputs": [],
   "source": [
    "step_size = 0.001\n",
    "max_it = 10000"
   ]
  },
  {
   "cell_type": "code",
   "execution_count": null,
   "metadata": {
    "ExecuteTime": {
     "end_time": "2020-10-19T15:53:36.454754Z",
     "start_time": "2020-10-19T15:53:35.743510Z"
    }
   },
   "outputs": [],
   "source": [
    "history, W_opt = train_logistic_classifier(x_train/16, Y_train, W, loss_function, gradient, step_size, max_it)"
   ]
  },
  {
   "cell_type": "code",
   "execution_count": null,
   "metadata": {
    "ExecuteTime": {
     "end_time": "2020-10-19T15:53:36.570988Z",
     "start_time": "2020-10-19T15:53:36.455869Z"
    }
   },
   "outputs": [],
   "source": [
    "plot_loss_curve(history)"
   ]
  },
  {
   "cell_type": "markdown",
   "metadata": {},
   "source": [
    "###### Make prediction\n",
    "\n",
    "Please compute the binary classification for both the training and test samples.\n",
    "\n",
    "**Hint**: binary classification implies class are integer number."
   ]
  },
  {
   "cell_type": "code",
   "execution_count": null,
   "metadata": {
    "ExecuteTime": {
     "end_time": "2020-10-21T09:44:54.319603Z",
     "start_time": "2020-10-21T09:44:54.314099Z"
    }
   },
   "outputs": [],
   "source": [
    "# Students please fill here\n",
    "y_pred_train = \n",
    "y_pred_test  = "
   ]
  },
  {
   "cell_type": "code",
   "execution_count": null,
   "metadata": {
    "ExecuteTime": {
     "end_time": "2020-10-19T15:53:36.833393Z",
     "start_time": "2020-10-19T15:53:36.580715Z"
    }
   },
   "outputs": [],
   "source": [
    "plot_confusion_matrix(Y_train, y_pred_train)"
   ]
  },
  {
   "cell_type": "code",
   "execution_count": null,
   "metadata": {
    "ExecuteTime": {
     "end_time": "2020-10-19T15:53:36.945545Z",
     "start_time": "2020-10-19T15:53:36.834687Z"
    }
   },
   "outputs": [],
   "source": [
    "plot_confusion_matrix(Y_test, y_pred_test)"
   ]
  },
  {
   "cell_type": "code",
   "execution_count": null,
   "metadata": {},
   "outputs": [],
   "source": []
  },
  {
   "cell_type": "markdown",
   "metadata": {},
   "source": [
    "## Hinge Loss"
   ]
  },
  {
   "cell_type": "markdown",
   "metadata": {},
   "source": [
    "##### Training procedure"
   ]
  },
  {
   "cell_type": "code",
   "execution_count": null,
   "metadata": {
    "ExecuteTime": {
     "end_time": "2020-10-19T15:53:37.322577Z",
     "start_time": "2020-10-19T15:53:36.946914Z"
    }
   },
   "outputs": [],
   "source": [
    "def train_hinge_classifier(X, Y, W, loss_function, gradient, step_size, max_it):\n",
    "    \n",
    "    checkpoint_step = int(max_it / 10)\n",
    "    \n",
    "    one = np.ones(Y.shape[0])\n",
    "    best_w = np.zeros(W.shape)\n",
    "    best_loss = float('+inf')\n",
    "    \n",
    "    history = []\n",
    "    for it in range(max_it):\n",
    "            \n",
    "        z = np.dot(X, W)\n",
    "\n",
    "        loss = loss_function(z, Y)\n",
    "\n",
    "        if loss < best_loss:\n",
    "            best_w = np.copy(W)\n",
    "\n",
    "        J_w = gradient(z, W, X, Y)\n",
    "\n",
    "        W = W - step_size * J_w\n",
    "\n",
    "        history.append(loss)\n",
    "\n",
    "        if (it + 1) % checkpoint_step == 0:\n",
    "            print('[{:05}] current loss: {}'.format(it, loss))\n",
    "    \n",
    "    return history, best_w"
   ]
  },
  {
   "cell_type": "code",
   "execution_count": null,
   "metadata": {
    "ExecuteTime": {
     "end_time": "2020-10-19T15:53:37.473581Z",
     "start_time": "2020-10-19T15:53:37.326907Z"
    }
   },
   "outputs": [],
   "source": [
    "def sgn_predict(W, X):\n",
    "    z = np.dot(X, W)\n",
    "    out = np.sign(z)\n",
    "    return out"
   ]
  },
  {
   "cell_type": "markdown",
   "metadata": {},
   "source": [
    "###### Gradient function\n",
    "\n",
    "Please implement the gradient of the hinge loss w/ linear model"
   ]
  },
  {
   "cell_type": "code",
   "execution_count": null,
   "metadata": {
    "ExecuteTime": {
     "end_time": "2020-10-19T15:53:37.591344Z",
     "start_time": "2020-10-19T15:53:37.478727Z"
    }
   },
   "outputs": [],
   "source": [
    "def gradient(preds, W, X, Y):\n",
    "    J = None\n",
    "    # Students please fill here\n",
    "    \n",
    "    \n",
    "    return J"
   ]
  },
  {
   "cell_type": "markdown",
   "metadata": {},
   "source": [
    "##### Loss function\n",
    "\n",
    "Please implement hinge loss given the dot product:\n",
    "\n",
    "\\begin{equation}\n",
    "z = wx\n",
    "\\end{equation}"
   ]
  },
  {
   "cell_type": "code",
   "execution_count": null,
   "metadata": {
    "ExecuteTime": {
     "end_time": "2020-10-19T15:53:37.744096Z",
     "start_time": "2020-10-19T15:53:37.595538Z"
    }
   },
   "outputs": [],
   "source": [
    "def hinge_loss(z, Y):\n",
    "    loss = None\n",
    "    # Students please fill here\n",
    "    \n",
    "    return loss"
   ]
  },
  {
   "cell_type": "markdown",
   "metadata": {},
   "source": [
    "##### Dataset loading"
   ]
  },
  {
   "cell_type": "code",
   "execution_count": null,
   "metadata": {
    "ExecuteTime": {
     "end_time": "2020-10-19T15:53:37.843850Z",
     "start_time": "2020-10-19T15:53:37.748450Z"
    }
   },
   "outputs": [],
   "source": [
    "X, Y = load_iris_dataset(num_classes=2)"
   ]
  },
  {
   "cell_type": "markdown",
   "metadata": {},
   "source": [
    "Set negative class to -1 instead of 0"
   ]
  },
  {
   "cell_type": "code",
   "execution_count": null,
   "metadata": {
    "ExecuteTime": {
     "end_time": "2020-10-19T15:53:38.030530Z",
     "start_time": "2020-10-19T15:53:37.845719Z"
    }
   },
   "outputs": [],
   "source": [
    "Y[Y == 0] = -1"
   ]
  },
  {
   "cell_type": "code",
   "execution_count": null,
   "metadata": {
    "ExecuteTime": {
     "end_time": "2020-10-19T15:53:38.131535Z",
     "start_time": "2020-10-19T15:53:38.034460Z"
    }
   },
   "outputs": [],
   "source": [
    "X_train, X_test, Y_train, Y_test = train_test_split(X, Y, test_size=0.3, random_state=RAND_ST) # 70% training and 30% test"
   ]
  },
  {
   "cell_type": "markdown",
   "metadata": {},
   "source": [
    "##### Definition model parameters"
   ]
  },
  {
   "cell_type": "code",
   "execution_count": null,
   "metadata": {
    "ExecuteTime": {
     "end_time": "2020-10-19T15:53:38.379952Z",
     "start_time": "2020-10-19T15:53:38.239275Z"
    }
   },
   "outputs": [],
   "source": [
    "x_train = np.hstack((X_train, np.ones((X_train.shape[0], 1))))\n",
    "x_test = np.hstack((X_test, np.ones((X_test.shape[0], 1))))\n",
    "\n",
    "W = np.zeros(x_train.shape[1])"
   ]
  },
  {
   "cell_type": "markdown",
   "metadata": {},
   "source": [
    "##### Train"
   ]
  },
  {
   "cell_type": "code",
   "execution_count": null,
   "metadata": {
    "ExecuteTime": {
     "end_time": "2020-10-19T15:53:38.570583Z",
     "start_time": "2020-10-19T15:53:38.392873Z"
    }
   },
   "outputs": [],
   "source": [
    "C = 1.0\n",
    "step_size = 0.01\n",
    "max_it = 1000"
   ]
  },
  {
   "cell_type": "code",
   "execution_count": null,
   "metadata": {
    "ExecuteTime": {
     "end_time": "2020-10-19T15:53:38.714265Z",
     "start_time": "2020-10-19T15:53:38.572570Z"
    }
   },
   "outputs": [],
   "source": [
    "history, W_opt = train_hinge_classifier(x_train, y_train, W, hinge_loss, gradient, step_size, max_it)"
   ]
  },
  {
   "cell_type": "code",
   "execution_count": null,
   "metadata": {
    "ExecuteTime": {
     "end_time": "2020-10-19T15:53:38.921830Z",
     "start_time": "2020-10-19T15:53:38.715809Z"
    }
   },
   "outputs": [],
   "source": [
    "plot_loss_curve(history)"
   ]
  },
  {
   "cell_type": "markdown",
   "metadata": {},
   "source": [
    "#### Performance check\n",
    "\n",
    "Dataset is linearly separable so we expect this to predict correctly all the time.\n",
    "\n",
    "Please check with a confusion matrix the above claim.\n",
    "\n",
    "**Hint**: binary classification implies class are integer number."
   ]
  },
  {
   "cell_type": "code",
   "execution_count": null,
   "metadata": {
    "ExecuteTime": {
     "end_time": "2020-10-19T15:53:39.041924Z",
     "start_time": "2020-10-19T15:53:38.929351Z"
    }
   },
   "outputs": [],
   "source": [
    "# Students please fill here\n",
    "y_pred_train = \n",
    "y_pred_test  = "
   ]
  },
  {
   "cell_type": "code",
   "execution_count": null,
   "metadata": {
    "ExecuteTime": {
     "end_time": "2020-10-19T15:53:39.372700Z",
     "start_time": "2020-10-19T15:53:39.189597Z"
    }
   },
   "outputs": [],
   "source": [
    "plot_confusion_matrix(y_train, y_pred_train)"
   ]
  },
  {
   "cell_type": "code",
   "execution_count": null,
   "metadata": {
    "ExecuteTime": {
     "end_time": "2020-10-19T15:53:39.487459Z",
     "start_time": "2020-10-19T15:53:39.374432Z"
    }
   },
   "outputs": [],
   "source": [
    "plot_confusion_matrix(y_test, y_pred_test)"
   ]
  },
  {
   "cell_type": "markdown",
   "metadata": {},
   "source": [
    "## SVM"
   ]
  },
  {
   "cell_type": "code",
   "execution_count": null,
   "metadata": {
    "ExecuteTime": {
     "end_time": "2020-10-19T15:53:54.955351Z",
     "start_time": "2020-10-19T15:53:39.489611Z"
    }
   },
   "outputs": [],
   "source": [
    "X, Y = load_mnist_dataset(num_classes=2)"
   ]
  },
  {
   "cell_type": "code",
   "execution_count": null,
   "metadata": {
    "ExecuteTime": {
     "end_time": "2020-10-19T15:53:54.959303Z",
     "start_time": "2020-10-19T15:53:54.956472Z"
    },
    "scrolled": true
   },
   "outputs": [],
   "source": [
    "X.shape"
   ]
  },
  {
   "cell_type": "code",
   "execution_count": null,
   "metadata": {
    "ExecuteTime": {
     "end_time": "2020-10-19T15:53:55.049936Z",
     "start_time": "2020-10-19T15:53:54.960668Z"
    }
   },
   "outputs": [],
   "source": [
    "Y.shape"
   ]
  },
  {
   "cell_type": "code",
   "execution_count": null,
   "metadata": {
    "ExecuteTime": {
     "end_time": "2020-10-19T15:53:55.135014Z",
     "start_time": "2020-10-19T15:53:55.051752Z"
    }
   },
   "outputs": [],
   "source": [
    "X_train, X_test, Y_train, Y_test = train_test_split(X, Y, test_size=0.3, random_state=RAND_ST) # 70% training and 30% test"
   ]
  },
  {
   "cell_type": "code",
   "execution_count": null,
   "metadata": {
    "ExecuteTime": {
     "end_time": "2020-10-19T15:53:55.256800Z",
     "start_time": "2020-10-19T15:53:55.136530Z"
    }
   },
   "outputs": [],
   "source": [
    "# normalize data\n",
    "X_train /= 255.0\n",
    "X_test /= 255.0"
   ]
  },
  {
   "cell_type": "code",
   "execution_count": null,
   "metadata": {
    "ExecuteTime": {
     "end_time": "2020-10-19T15:53:55.436015Z",
     "start_time": "2020-10-19T15:53:55.259497Z"
    }
   },
   "outputs": [],
   "source": [
    "plot_mnist_digit(X_train[0])"
   ]
  },
  {
   "cell_type": "code",
   "execution_count": null,
   "metadata": {
    "ExecuteTime": {
     "end_time": "2020-10-19T15:53:55.440642Z",
     "start_time": "2020-10-19T15:53:55.437644Z"
    }
   },
   "outputs": [],
   "source": [
    "linsvm = svm.SVC(C=0.1, kernel='linear')"
   ]
  },
  {
   "cell_type": "code",
   "execution_count": null,
   "metadata": {
    "ExecuteTime": {
     "end_time": "2020-10-19T15:53:56.596694Z",
     "start_time": "2020-10-19T15:53:55.442441Z"
    }
   },
   "outputs": [],
   "source": [
    "linsvm.fit(X_train, Y_train)"
   ]
  },
  {
   "cell_type": "code",
   "execution_count": null,
   "metadata": {
    "ExecuteTime": {
     "end_time": "2020-10-19T15:53:57.072251Z",
     "start_time": "2020-10-19T15:53:56.598350Z"
    }
   },
   "outputs": [],
   "source": [
    "preds = linsvm.predict(X_test)\n",
    "plot_confusion_matrix(Y_test, preds)"
   ]
  },
  {
   "cell_type": "code",
   "execution_count": null,
   "metadata": {
    "ExecuteTime": {
     "end_time": "2020-10-19T15:53:57.931951Z",
     "start_time": "2020-10-19T15:53:57.073662Z"
    }
   },
   "outputs": [],
   "source": [
    "preds = linsvm.predict(X_train)\n",
    "plot_confusion_matrix(Y_train, preds)"
   ]
  },
  {
   "cell_type": "code",
   "execution_count": null,
   "metadata": {},
   "outputs": [],
   "source": []
  },
  {
   "cell_type": "markdown",
   "metadata": {},
   "source": [
    "#### SVM & circles"
   ]
  },
  {
   "cell_type": "code",
   "execution_count": null,
   "metadata": {
    "ExecuteTime": {
     "end_time": "2020-10-19T15:53:57.936644Z",
     "start_time": "2020-10-19T15:53:57.933486Z"
    }
   },
   "outputs": [],
   "source": [
    "X, Y = load_circle_dataset(num_samples=1000)"
   ]
  },
  {
   "cell_type": "code",
   "execution_count": null,
   "metadata": {
    "ExecuteTime": {
     "end_time": "2020-10-19T15:53:58.121113Z",
     "start_time": "2020-10-19T15:53:57.937957Z"
    }
   },
   "outputs": [],
   "source": [
    "plot_dataset(X, Y)"
   ]
  },
  {
   "cell_type": "code",
   "execution_count": null,
   "metadata": {
    "ExecuteTime": {
     "end_time": "2020-10-19T15:53:58.194213Z",
     "start_time": "2020-10-19T15:53:58.127168Z"
    }
   },
   "outputs": [],
   "source": [
    "Y[Y==0]=-1"
   ]
  },
  {
   "cell_type": "code",
   "execution_count": null,
   "metadata": {
    "ExecuteTime": {
     "end_time": "2020-10-19T15:53:58.262866Z",
     "start_time": "2020-10-19T15:53:58.195667Z"
    }
   },
   "outputs": [],
   "source": [
    "X_train, X_test, Y_train, Y_test = train_test_split(X, Y, test_size=0.3, random_state=RAND_ST) # 70% training and 30% test"
   ]
  },
  {
   "cell_type": "code",
   "execution_count": null,
   "metadata": {
    "ExecuteTime": {
     "end_time": "2020-10-19T15:53:58.327909Z",
     "start_time": "2020-10-19T15:53:58.265258Z"
    }
   },
   "outputs": [],
   "source": [
    "linsvm = svm.SVC(C=1.0, kernel='linear')"
   ]
  },
  {
   "cell_type": "code",
   "execution_count": null,
   "metadata": {
    "ExecuteTime": {
     "end_time": "2020-10-19T15:53:58.407032Z",
     "start_time": "2020-10-19T15:53:58.329266Z"
    }
   },
   "outputs": [],
   "source": [
    "linsvm.fit(X_train, Y_train)"
   ]
  },
  {
   "cell_type": "code",
   "execution_count": null,
   "metadata": {
    "ExecuteTime": {
     "end_time": "2020-10-19T15:53:58.584534Z",
     "start_time": "2020-10-19T15:53:58.408199Z"
    }
   },
   "outputs": [],
   "source": [
    "preds = linsvm.predict(X_test)\n",
    "plot_confusion_matrix(Y_test, preds)"
   ]
  },
  {
   "cell_type": "code",
   "execution_count": null,
   "metadata": {
    "ExecuteTime": {
     "end_time": "2020-10-19T15:53:58.689803Z",
     "start_time": "2020-10-19T15:53:58.585770Z"
    }
   },
   "outputs": [],
   "source": [
    "preds = linsvm.predict(X_train)\n",
    "plot_confusion_matrix(Y_train, preds)"
   ]
  },
  {
   "cell_type": "code",
   "execution_count": null,
   "metadata": {},
   "outputs": [],
   "source": []
  },
  {
   "cell_type": "markdown",
   "metadata": {},
   "source": [
    "## Kernel SVM"
   ]
  },
  {
   "cell_type": "markdown",
   "metadata": {},
   "source": [
    "##### Dataset loading"
   ]
  },
  {
   "cell_type": "code",
   "execution_count": null,
   "metadata": {
    "ExecuteTime": {
     "end_time": "2020-10-19T15:53:58.693961Z",
     "start_time": "2020-10-19T15:53:58.691181Z"
    }
   },
   "outputs": [],
   "source": [
    "X, Y = load_circle_dataset(num_samples=1000)"
   ]
  },
  {
   "cell_type": "code",
   "execution_count": null,
   "metadata": {
    "ExecuteTime": {
     "end_time": "2020-10-19T15:53:58.886983Z",
     "start_time": "2020-10-19T15:53:58.695236Z"
    }
   },
   "outputs": [],
   "source": [
    "plot_dataset(X, Y)"
   ]
  },
  {
   "cell_type": "code",
   "execution_count": null,
   "metadata": {
    "ExecuteTime": {
     "end_time": "2020-10-19T15:53:58.890451Z",
     "start_time": "2020-10-19T15:53:58.888257Z"
    }
   },
   "outputs": [],
   "source": [
    "Y[Y==0]=-1"
   ]
  },
  {
   "cell_type": "code",
   "execution_count": null,
   "metadata": {
    "ExecuteTime": {
     "end_time": "2020-10-19T15:53:58.999847Z",
     "start_time": "2020-10-19T15:53:58.891823Z"
    }
   },
   "outputs": [],
   "source": [
    "X_train, X_test, Y_train, Y_test = train_test_split(X, Y, test_size=0.3, random_state=RAND_ST) # 70% training and 30% test"
   ]
  },
  {
   "cell_type": "code",
   "execution_count": null,
   "metadata": {
    "ExecuteTime": {
     "end_time": "2020-10-19T15:53:59.076000Z",
     "start_time": "2020-10-19T15:53:59.001764Z"
    }
   },
   "outputs": [],
   "source": [
    "polysvm = svm.SVC(kernel='poly', degree=2)"
   ]
  },
  {
   "cell_type": "code",
   "execution_count": null,
   "metadata": {
    "ExecuteTime": {
     "end_time": "2020-10-19T15:53:59.156366Z",
     "start_time": "2020-10-19T15:53:59.077935Z"
    }
   },
   "outputs": [],
   "source": [
    "polysvm.fit(X_train, Y_train)"
   ]
  },
  {
   "cell_type": "code",
   "execution_count": null,
   "metadata": {
    "ExecuteTime": {
     "end_time": "2020-10-19T15:53:59.382455Z",
     "start_time": "2020-10-19T15:53:59.157689Z"
    }
   },
   "outputs": [],
   "source": [
    "preds = polysvm.predict(X_test)\n",
    "plot_confusion_matrix(Y_test, preds)"
   ]
  },
  {
   "cell_type": "code",
   "execution_count": null,
   "metadata": {
    "ExecuteTime": {
     "end_time": "2020-10-19T15:53:59.485513Z",
     "start_time": "2020-10-19T15:53:59.383956Z"
    }
   },
   "outputs": [],
   "source": [
    "preds = polysvm.predict(X_train)\n",
    "plot_confusion_matrix(Y_train, preds)"
   ]
  },
  {
   "cell_type": "markdown",
   "metadata": {},
   "source": [
    "## Kernel SVM & MNIST"
   ]
  },
  {
   "cell_type": "code",
   "execution_count": null,
   "metadata": {
    "ExecuteTime": {
     "end_time": "2020-10-19T15:54:14.615429Z",
     "start_time": "2020-10-19T15:53:59.487266Z"
    }
   },
   "outputs": [],
   "source": [
    "X, Y = load_mnist_dataset_onevsall(class_id=7)"
   ]
  },
  {
   "cell_type": "code",
   "execution_count": null,
   "metadata": {
    "ExecuteTime": {
     "end_time": "2020-10-19T15:54:14.619240Z",
     "start_time": "2020-10-19T15:54:14.616662Z"
    }
   },
   "outputs": [],
   "source": [
    "Y[Y==0]=-1"
   ]
  },
  {
   "cell_type": "code",
   "execution_count": null,
   "metadata": {
    "ExecuteTime": {
     "end_time": "2020-10-19T15:54:15.190245Z",
     "start_time": "2020-10-19T15:54:14.620688Z"
    }
   },
   "outputs": [],
   "source": [
    "X_train, X_test, Y_train, Y_test = train_test_split(X, Y, test_size=0.3, random_state=RAND_ST) # 70% training and 30% test"
   ]
  },
  {
   "cell_type": "code",
   "execution_count": null,
   "metadata": {},
   "outputs": [],
   "source": [
    "# normalize mnist data"
   ]
  },
  {
   "cell_type": "code",
   "execution_count": null,
   "metadata": {},
   "outputs": [],
   "source": [
    "X_train = X_train/255.0\n",
    "X_test = X_test/255.0"
   ]
  },
  {
   "cell_type": "code",
   "execution_count": null,
   "metadata": {
    "ExecuteTime": {
     "end_time": "2020-10-19T15:54:15.193528Z",
     "start_time": "2020-10-19T15:54:15.191517Z"
    }
   },
   "outputs": [],
   "source": [
    "polysvm = svm.SVC(kernel='poly', degree=2)"
   ]
  },
  {
   "cell_type": "code",
   "execution_count": null,
   "metadata": {
    "ExecuteTime": {
     "end_time": "2020-10-19T15:56:04.439054Z",
     "start_time": "2020-10-19T15:54:15.194877Z"
    }
   },
   "outputs": [],
   "source": [
    "polysvm.fit(X_train, Y_train)"
   ]
  },
  {
   "cell_type": "code",
   "execution_count": null,
   "metadata": {
    "ExecuteTime": {
     "end_time": "2020-10-19T15:56:46.566714Z",
     "start_time": "2020-10-19T15:56:04.440499Z"
    }
   },
   "outputs": [],
   "source": [
    "preds = polysvm.predict(X_test)\n",
    "plot_confusion_matrix(Y_test, preds)"
   ]
  },
  {
   "cell_type": "code",
   "execution_count": null,
   "metadata": {
    "ExecuteTime": {
     "end_time": "2020-10-19T15:58:22.942307Z",
     "start_time": "2020-10-19T15:56:46.568292Z"
    }
   },
   "outputs": [],
   "source": [
    "preds = polysvm.predict(X_train)\n",
    "plot_confusion_matrix(Y_train, preds)"
   ]
  },
  {
   "cell_type": "code",
   "execution_count": null,
   "metadata": {},
   "outputs": [],
   "source": []
  },
  {
   "cell_type": "markdown",
   "metadata": {},
   "source": [
    "### Kernel SVM by hand"
   ]
  },
  {
   "cell_type": "code",
   "execution_count": null,
   "metadata": {},
   "outputs": [],
   "source": [
    "# get support vectors\n",
    "support_idx = ksvm.support_\n",
    "support_vect = X_train[support_idx] # / 255.0\n",
    "intercept = ksvm.intercept_\n",
    "support_lb   = Y_train[support_idx] * np.abs(ksvm.dual_coef_)"
   ]
  },
  {
   "cell_type": "code",
   "execution_count": null,
   "metadata": {},
   "outputs": [],
   "source": [
    "def kernel_rbf(x_i, x_j):\n",
    "    d = x_i - x_j # this is still a vector\n",
    "    d2 = np.dot(d, d) # vector squared = number\n",
    "    return np.exp(-d2 / 2)"
   ]
  },
  {
   "cell_type": "code",
   "execution_count": null,
   "metadata": {},
   "outputs": [],
   "source": [
    "def predict(x_j, support_vect, support_lb):\n",
    "    \n",
    "    kv = np.apply_along_axis(lambda x_i: kernel_rbf(x_i, x_j), 1, support_vect)\n",
    "    preds = kv * support_lb\n",
    "    return np.sum(preds)\n"
   ]
  },
  {
   "cell_type": "code",
   "execution_count": null,
   "metadata": {},
   "outputs": [],
   "source": [
    "preds = np.apply_along_axis(lambda x_j : predict(x_j, support_vect, support_lb), 1, X_test[:50] / 255.0)\n",
    "preds = 2 * (preds > 0) - 1"
   ]
  },
  {
   "cell_type": "code",
   "execution_count": null,
   "metadata": {},
   "outputs": [],
   "source": [
    "plot_confusion_matrix(Y_test[:50], preds)"
   ]
  }
 ],
 "metadata": {
  "kernelspec": {
   "display_name": "Python 3",
   "language": "python",
   "name": "python3"
  },
  "language_info": {
   "codemirror_mode": {
    "name": "ipython",
    "version": 3
   },
   "file_extension": ".py",
   "mimetype": "text/x-python",
   "name": "python",
   "nbconvert_exporter": "python",
   "pygments_lexer": "ipython3",
   "version": "3.7.7"
  }
 },
 "nbformat": 4,
 "nbformat_minor": 4
}
